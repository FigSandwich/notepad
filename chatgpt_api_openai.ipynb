{
 "cells": [
  {
   "cell_type": "code",
   "execution_count": null,
   "id": "3540054c",
   "metadata": {
    "scrolled": true
   },
   "outputs": [],
   "source": [
    "from openai import OpenAI\n",
    "import pandas as pd\n",
    "import os\n",
    "\n",
    "\n",
    "import os\n",
    "from dotenv import load_dotenv\n",
    "\n",
    "# load .env\n",
    "load_dotenv()\n",
    "\n",
    "\n",
    "client = OpenAI(\n",
    "    api_key=os.environ.get(\"OPEN_API_KEY\"),\n",
    ")\n",
    "\n",
    "# 번역 함수\n",
    "def translate_text(text):\n",
    "#def translate_text(text1,text2):\n",
    "    chat_completion = client.chat.completions.create(\n",
    "        messages=[\n",
    "            {\n",
    "                \"role\": \"user\",\n",
    "                #\"content\": f\"ERP category '{text}' in English? Just word only. If none, keep original.\",\n",
    "                #\"content\": f\"Is '{text1}'the correct translation of '{text2}'for use in a ERP system? Reply 'Yes' or 'No'\",\n",
    "                \"content\": f\"'{text}' is a description for an ERP notification message. Translate it into English. If it cannot be translated, retain the original text. Provide only the translation as your response.\",\n",
    "                \n",
    "            }\n",
    "        ],\n",
    "        #model=\"gpt-4o-mini\",\n",
    "        model=\"gpt-4o\",\n",
    "        \n",
    "    )\n",
    "    return chat_completion.choices[0].message.content\n",
    "\n",
    "\n",
    "df = pd.read_excel('D:/load.xlsx')\n",
    "\n"
   ]
  },
  {
   "cell_type": "code",
   "execution_count": null,
   "id": "c564fb23",
   "metadata": {
    "scrolled": false
   },
   "outputs": [],
   "source": [
    "for i in range(len(df)):\n",
    "#    df.at[i,'Eng Translation'] = translate_text(df.at[i,'eng'],df.at[i,'kor'])\n",
    "    df.at[i,'Eng Translation'] = translate_text(df.at[i,'kor'])\n",
    "    if (i + 1) % 100 == 0:\n",
    "        print(f\"Processed {i + 1} rows out of {len(df)}\")\n",
    "    if (i + 1) % 1000 == 0:\n",
    "        df.to_excel('zbase'+str(i)+'.xlsx')"
   ]
  },
  {
   "cell_type": "code",
   "execution_count": null,
   "id": "208fc3c9",
   "metadata": {},
   "outputs": [],
   "source": [
    "output_file = 'D:/save.xlsx'\n",
    "df.to_excel(output_file, index=False)"
   ]
  },
  {
   "cell_type": "code",
   "execution_count": null,
   "id": "d5841334",
   "metadata": {},
   "outputs": [],
   "source": [
    "df"
   ]
  },
  {
   "cell_type": "code",
   "execution_count": null,
   "id": "bcbee595",
   "metadata": {},
   "outputs": [],
   "source": []
  }
 ],
 "metadata": {
  "kernelspec": {
   "display_name": "Python 3 (ipykernel)",
   "language": "python",
   "name": "python3"
  },
  "language_info": {
   "codemirror_mode": {
    "name": "ipython",
    "version": 3
   },
   "file_extension": ".py",
   "mimetype": "text/x-python",
   "name": "python",
   "nbconvert_exporter": "python",
   "pygments_lexer": "ipython3",
   "version": "3.9.13"
  }
 },
 "nbformat": 4,
 "nbformat_minor": 5
}
